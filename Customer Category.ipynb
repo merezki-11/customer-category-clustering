{
 "cells": [
  {
   "metadata": {
    "ExecuteTime": {
     "end_time": "2025-10-17T13:43:33.114637Z",
     "start_time": "2025-10-17T13:43:32.262142Z"
    }
   },
   "cell_type": "code",
   "source": [
    "\"\"\"\n",
    "Customer Segmentation using RFM Analysis and K-Means Clustering\n",
    "Author: Macnelson Ugochimereze Chibuike\n",
    "Description:\n",
    "This project segments customers based on their Recency, Frequency, and Monetary values\n",
    "to identify groups like 'Loyal Customers', 'At Risk', 'Big Spenders', etc.\n",
    "\"\"\"\n"
   ],
   "id": "5ade9dcfc988a7eb",
   "outputs": [
    {
     "data": {
      "text/plain": [
       "\"\\nCustomer Segmentation using RFM Analysis and K-Means Clustering\\nAuthor: Macnelson Ugochimereze Chibuike\\nDescription:\\nThis project segments customers based on their Recency, Frequency, and Monetary values\\nto identify groups like 'Loyal Customers', 'At Risk', 'Big Spenders', etc.\\n\""
      ]
     },
     "execution_count": 150,
     "metadata": {},
     "output_type": "execute_result"
    }
   ],
   "execution_count": 150
  },
  {
   "cell_type": "code",
   "id": "initial_id",
   "metadata": {
    "collapsed": true,
    "ExecuteTime": {
     "end_time": "2025-10-17T13:43:33.201437Z",
     "start_time": "2025-10-17T13:43:33.137777Z"
    }
   },
   "source": [
    "# Importing necessary libraries\n",
    "import pandas as pd\n",
    "import numpy as np\n",
    "import matplotlib.pyplot as plt\n",
    "import seaborn as sns\n",
    "from sklearn.cluster import KMeans\n",
    "import warnings\n",
    "warnings.filterwarnings(\"ignore\")\n"
   ],
   "outputs": [],
   "execution_count": 151
  },
  {
   "metadata": {
    "ExecuteTime": {
     "end_time": "2025-10-17T13:43:37.261672Z",
     "start_time": "2025-10-17T13:43:33.211827Z"
    }
   },
   "cell_type": "code",
   "source": [
    "# Dataset source:\n",
    "# Online Retail Data (UCI Machine Learning Repository)\n",
    "# https://archive.ics.uci.edu/ml/datasets/Online+Retail\n",
    "df = pd.read_csv(\"online_retail.csv\")"
   ],
   "id": "3972fbba62117e2a",
   "outputs": [],
   "execution_count": 152
  },
  {
   "metadata": {
    "ExecuteTime": {
     "end_time": "2025-10-17T13:43:37.517268Z",
     "start_time": "2025-10-17T13:43:37.280213Z"
    }
   },
   "cell_type": "code",
   "source": "print(df.head())",
   "id": "a27da8496d31b95b",
   "outputs": [
    {
     "name": "stdout",
     "output_type": "stream",
     "text": [
      "  InvoiceNo StockCode                          Description  Quantity  \\\n",
      "0    536365    85123A   WHITE HANGING HEART T-LIGHT HOLDER         6   \n",
      "1    536365     71053                  WHITE METAL LANTERN         6   \n",
      "2    536365    84406B       CREAM CUPID HEARTS COAT HANGER         8   \n",
      "3    536365    84029G  KNITTED UNION FLAG HOT WATER BOTTLE         6   \n",
      "4    536365    84029E       RED WOOLLY HOTTIE WHITE HEART.         6   \n",
      "\n",
      "           InvoiceDate  UnitPrice  CustomerID         Country  \n",
      "0  2010-12-01 08:26:00       2.55     17850.0  United Kingdom  \n",
      "1  2010-12-01 08:26:00       3.39     17850.0  United Kingdom  \n",
      "2  2010-12-01 08:26:00       2.75     17850.0  United Kingdom  \n",
      "3  2010-12-01 08:26:00       3.39     17850.0  United Kingdom  \n",
      "4  2010-12-01 08:26:00       3.39     17850.0  United Kingdom  \n"
     ]
    }
   ],
   "execution_count": 153
  },
  {
   "metadata": {
    "ExecuteTime": {
     "end_time": "2025-10-17T13:43:37.919962Z",
     "start_time": "2025-10-17T13:43:37.584232Z"
    }
   },
   "cell_type": "code",
   "source": "print(df.info())",
   "id": "db20811c9f276acb",
   "outputs": [
    {
     "name": "stdout",
     "output_type": "stream",
     "text": [
      "<class 'pandas.core.frame.DataFrame'>\n",
      "RangeIndex: 541909 entries, 0 to 541908\n",
      "Data columns (total 8 columns):\n",
      " #   Column       Non-Null Count   Dtype  \n",
      "---  ------       --------------   -----  \n",
      " 0   InvoiceNo    541909 non-null  object \n",
      " 1   StockCode    541909 non-null  object \n",
      " 2   Description  540455 non-null  object \n",
      " 3   Quantity     541909 non-null  int64  \n",
      " 4   InvoiceDate  541909 non-null  object \n",
      " 5   UnitPrice    541909 non-null  float64\n",
      " 6   CustomerID   406829 non-null  float64\n",
      " 7   Country      541909 non-null  object \n",
      "dtypes: float64(2), int64(1), object(5)\n",
      "memory usage: 33.1+ MB\n",
      "None\n"
     ]
    }
   ],
   "execution_count": 154
  },
  {
   "metadata": {
    "ExecuteTime": {
     "end_time": "2025-10-17T13:43:38.158364Z",
     "start_time": "2025-10-17T13:43:37.961518Z"
    }
   },
   "cell_type": "code",
   "source": [
    "# Change the missing values in Description and drop the part of the CustomerID That is missing\n",
    "df[\"Description\"].fillna(\"Unknown\", inplace=True)\n",
    "df = df.dropna(subset=['CustomerID'])\n"
   ],
   "id": "530f4615384f7927",
   "outputs": [],
   "execution_count": 155
  },
  {
   "metadata": {
    "ExecuteTime": {
     "end_time": "2025-10-17T13:43:38.326121Z",
     "start_time": "2025-10-17T13:43:38.175465Z"
    }
   },
   "cell_type": "code",
   "source": [
    "# Check if there are any null values left\n",
    "print(df.isnull().sum())"
   ],
   "id": "6177c9c5bb239041",
   "outputs": [
    {
     "name": "stdout",
     "output_type": "stream",
     "text": [
      "InvoiceNo      0\n",
      "StockCode      0\n",
      "Description    0\n",
      "Quantity       0\n",
      "InvoiceDate    0\n",
      "UnitPrice      0\n",
      "CustomerID     0\n",
      "Country        0\n",
      "dtype: int64\n"
     ]
    }
   ],
   "execution_count": 156
  },
  {
   "metadata": {
    "ExecuteTime": {
     "end_time": "2025-10-17T13:43:38.846237Z",
     "start_time": "2025-10-17T13:43:38.601542Z"
    }
   },
   "cell_type": "code",
   "source": [
    "# Check for negative or zero values in Quantity and UnitPrice (they often mean returns or invalid data).\n",
    "\n",
    "\n",
    "print(df[df[\"Quantity\"] <= 0])\n",
    "\n",
    "# Check for zero or negative prices\n",
    "print(df[df[\"UnitPrice\"] <= 0])\n"
   ],
   "id": "648fc2aeadac888d",
   "outputs": [
    {
     "name": "stdout",
     "output_type": "stream",
     "text": [
      "       InvoiceNo StockCode                       Description  Quantity  \\\n",
      "141      C536379         D                          Discount        -1   \n",
      "154      C536383    35004C   SET OF 3 COLOURED  FLYING DUCKS        -1   \n",
      "235      C536391     22556    PLASTERS IN TIN CIRCUS PARADE        -12   \n",
      "236      C536391     21984  PACK OF 12 PINK PAISLEY TISSUES        -24   \n",
      "237      C536391     21983  PACK OF 12 BLUE PAISLEY TISSUES        -24   \n",
      "...          ...       ...                               ...       ...   \n",
      "540449   C581490     23144   ZINC T-LIGHT HOLDER STARS SMALL       -11   \n",
      "541541   C581499         M                            Manual        -1   \n",
      "541715   C581568     21258        VICTORIAN SEWING BOX LARGE        -5   \n",
      "541716   C581569     84978  HANGING HEART JAR T-LIGHT HOLDER        -1   \n",
      "541717   C581569     20979     36 PENCILS TUBE RED RETROSPOT        -5   \n",
      "\n",
      "                InvoiceDate  UnitPrice  CustomerID         Country  \n",
      "141     2010-12-01 09:41:00      27.50     14527.0  United Kingdom  \n",
      "154     2010-12-01 09:49:00       4.65     15311.0  United Kingdom  \n",
      "235     2010-12-01 10:24:00       1.65     17548.0  United Kingdom  \n",
      "236     2010-12-01 10:24:00       0.29     17548.0  United Kingdom  \n",
      "237     2010-12-01 10:24:00       0.29     17548.0  United Kingdom  \n",
      "...                     ...        ...         ...             ...  \n",
      "540449  2011-12-09 09:57:00       0.83     14397.0  United Kingdom  \n",
      "541541  2011-12-09 10:28:00     224.69     15498.0  United Kingdom  \n",
      "541715  2011-12-09 11:57:00      10.95     15311.0  United Kingdom  \n",
      "541716  2011-12-09 11:58:00       1.25     17315.0  United Kingdom  \n",
      "541717  2011-12-09 11:58:00       1.25     17315.0  United Kingdom  \n",
      "\n",
      "[8905 rows x 8 columns]\n",
      "       InvoiceNo StockCode                          Description  Quantity  \\\n",
      "9302      537197     22841         ROUND CAKE TIN VINTAGE GREEN         1   \n",
      "33576     539263     22580         ADVENT CALENDAR GINGHAM SACK         4   \n",
      "40089     539722     22423             REGENCY CAKESTAND 3 TIER        10   \n",
      "47068     540372     22090              PAPER BUNTING RETROSPOT        24   \n",
      "47070     540372     22553               PLASTERS IN TIN SKULLS        24   \n",
      "56674     541109     22168        ORGANISER WOOD ANTIQUE WHITE          1   \n",
      "86789     543599    84535B         FAIRY CAKES NOTEBOOK A6 SIZE        16   \n",
      "130188    547417     22062  CERAMIC BOWL WITH LOVE HEART DESIGN        36   \n",
      "139453    548318     22055   MINI CAKE STAND  HANGING STRAWBERY         5   \n",
      "145208    548871     22162          HEART GARLAND RUSTIC PADDED         2   \n",
      "157042    550188     22636   CHILDS BREAKFAST SET CIRCUS PARADE         1   \n",
      "187613    553000     47566                        PARTY BUNTING         4   \n",
      "198383    554037     22619            SET OF 6 SOLDIER SKITTLES        80   \n",
      "279324    561284     22167           OVAL WALL MIRROR DIAMANTE          1   \n",
      "282912    561669     22960             JAM MAKING SET WITH JARS        11   \n",
      "285657    561916         M                               Manual         1   \n",
      "298054    562973     23157           SET OF 6 NATIVITY MAGNETS        240   \n",
      "314745    564651     23270     SET OF 2 CERAMIC PAINTED HEARTS         96   \n",
      "314746    564651     23268  SET OF 2 CERAMIC CHRISTMAS REINDEER       192   \n",
      "314747    564651     22955             36 FOIL STAR CAKE CASES        144   \n",
      "314748    564651     21786                   POLKADOT RAIN HAT        144   \n",
      "358655    568158      PADS           PADS TO MATCH ALL CUSHIONS         1   \n",
      "361825    568384         M                               Manual         1   \n",
      "379913    569716     22778                   GLASS CLOCHE SMALL         2   \n",
      "395529    571035         M                               Manual         1   \n",
      "420404    572893     21208          PASTEL COLOUR HONEYCOMB FAN         5   \n",
      "436428    574138     23234        BISCUIT TIN VINTAGE CHRISTMAS       216   \n",
      "436597    574175     22065       CHRISTMAS PUDDING TRINKET POT         12   \n",
      "436961    574252         M                               Manual         1   \n",
      "439361    574469     22385            JUMBO BAG SPACEBOY DESIGN        12   \n",
      "446125    574879     22625                   RED KITCHEN SCALES         2   \n",
      "446793    574920     22899         CHILDREN'S APRON DOLLY GIRL          1   \n",
      "446794    574920     23480       MINI LIGHTS WOODLAND MUSHROOMS         1   \n",
      "454463    575579     22437        SET OF 9 BLACK SKULL BALLOONS        20   \n",
      "454464    575579     22089        PAPER BUNTING VINTAGE PAISLEY        24   \n",
      "479079    577129     22464          HANGING METAL HEART LANTERN         4   \n",
      "479546    577168         M                               Manual         1   \n",
      "480649    577314     23407       SET OF 2 TRAYS HOME SWEET HOME         2   \n",
      "485985    577696         M                               Manual         1   \n",
      "502122    578841     84826       ASSTD DESIGN 3D PAPER STICKERS     12540   \n",
      "\n",
      "                InvoiceDate  UnitPrice  CustomerID         Country  \n",
      "9302    2010-12-05 14:02:00        0.0     12647.0         Germany  \n",
      "33576   2010-12-16 14:36:00        0.0     16560.0  United Kingdom  \n",
      "40089   2010-12-21 13:45:00        0.0     14911.0            EIRE  \n",
      "47068   2011-01-06 16:41:00        0.0     13081.0  United Kingdom  \n",
      "47070   2011-01-06 16:41:00        0.0     13081.0  United Kingdom  \n",
      "56674   2011-01-13 15:10:00        0.0     15107.0  United Kingdom  \n",
      "86789   2011-02-10 13:08:00        0.0     17560.0  United Kingdom  \n",
      "130188  2011-03-23 10:25:00        0.0     13239.0  United Kingdom  \n",
      "139453  2011-03-30 12:45:00        0.0     13113.0  United Kingdom  \n",
      "145208  2011-04-04 14:42:00        0.0     14410.0  United Kingdom  \n",
      "157042  2011-04-14 18:57:00        0.0     12457.0     Switzerland  \n",
      "187613  2011-05-12 15:21:00        0.0     17667.0  United Kingdom  \n",
      "198383  2011-05-20 14:13:00        0.0     12415.0       Australia  \n",
      "279324  2011-07-26 12:24:00        0.0     16818.0  United Kingdom  \n",
      "282912  2011-07-28 17:09:00        0.0     12507.0           Spain  \n",
      "285657  2011-08-01 11:44:00        0.0     15581.0  United Kingdom  \n",
      "298054  2011-08-11 11:42:00        0.0     14911.0            EIRE  \n",
      "314745  2011-08-26 14:19:00        0.0     14646.0     Netherlands  \n",
      "314746  2011-08-26 14:19:00        0.0     14646.0     Netherlands  \n",
      "314747  2011-08-26 14:19:00        0.0     14646.0     Netherlands  \n",
      "314748  2011-08-26 14:19:00        0.0     14646.0     Netherlands  \n",
      "358655  2011-09-25 12:22:00        0.0     16133.0  United Kingdom  \n",
      "361825  2011-09-27 09:46:00        0.0     12748.0  United Kingdom  \n",
      "379913  2011-10-06 08:17:00        0.0     15804.0  United Kingdom  \n",
      "395529  2011-10-13 12:50:00        0.0     12446.0             RSA  \n",
      "420404  2011-10-26 14:36:00        0.0     18059.0  United Kingdom  \n",
      "436428  2011-11-03 11:26:00        0.0     12415.0       Australia  \n",
      "436597  2011-11-03 11:47:00        0.0     14110.0  United Kingdom  \n",
      "436961  2011-11-03 13:24:00        0.0     12437.0          France  \n",
      "439361  2011-11-04 11:55:00        0.0     12431.0       Australia  \n",
      "446125  2011-11-07 13:22:00        0.0     13014.0  United Kingdom  \n",
      "446793  2011-11-07 16:34:00        0.0     13985.0  United Kingdom  \n",
      "446794  2011-11-07 16:34:00        0.0     13985.0  United Kingdom  \n",
      "454463  2011-11-10 11:49:00        0.0     13081.0  United Kingdom  \n",
      "454464  2011-11-10 11:49:00        0.0     13081.0  United Kingdom  \n",
      "479079  2011-11-17 19:52:00        0.0     15602.0  United Kingdom  \n",
      "479546  2011-11-18 10:42:00        0.0     12603.0         Germany  \n",
      "480649  2011-11-18 13:23:00        0.0     12444.0          Norway  \n",
      "485985  2011-11-21 11:57:00        0.0     16406.0  United Kingdom  \n",
      "502122  2011-11-25 15:57:00        0.0     13256.0  United Kingdom  \n"
     ]
    }
   ],
   "execution_count": 157
  },
  {
   "metadata": {
    "ExecuteTime": {
     "end_time": "2025-10-17T13:43:38.963379Z",
     "start_time": "2025-10-17T13:43:38.890705Z"
    }
   },
   "cell_type": "code",
   "source": [
    "# Remove the negative or zero values in Quantity and UnitPrice\n",
    "df = df[(df[\"Quantity\"] > 0) & (df[\"UnitPrice\"] > 0)]\n"
   ],
   "id": "7dc821d6f5adc8c",
   "outputs": [],
   "execution_count": 158
  },
  {
   "metadata": {
    "ExecuteTime": {
     "end_time": "2025-10-17T13:43:39.008294Z",
     "start_time": "2025-10-17T13:43:38.977771Z"
    }
   },
   "cell_type": "code",
   "source": [
    "#Verify Cleaning: After cleaning, re-check if the negative or zero values in Quantity and UnitPrice has been removed\n",
    "print((df[\"Quantity\"] <= 0).sum())   # should show 0\n",
    "print((df[\"UnitPrice\"] <= 0).sum())  # should show 0\n"
   ],
   "id": "bb75aaa22fa8d83e",
   "outputs": [
    {
     "name": "stdout",
     "output_type": "stream",
     "text": [
      "0\n",
      "0\n"
     ]
    }
   ],
   "execution_count": 159
  },
  {
   "metadata": {
    "ExecuteTime": {
     "end_time": "2025-10-17T13:43:39.075401Z",
     "start_time": "2025-10-17T13:43:39.039739Z"
    }
   },
   "cell_type": "code",
   "source": [
    "# Next we perform RFM (Recency, Frequency, and Monetary) analysis.\n",
    "\n",
    "# Recency is How recently a customer made a purchase, it measures Customer engagement or activeness\n",
    "# Frequency is How often they buy, it measures Customer loyalty\n",
    "# Monetary is how much money they spend, it measures customer value or worth."
   ],
   "id": "51e8cf224d655a9c",
   "outputs": [],
   "execution_count": 160
  },
  {
   "metadata": {
    "ExecuteTime": {
     "end_time": "2025-10-17T13:43:41.021297Z",
     "start_time": "2025-10-17T13:43:39.096249Z"
    }
   },
   "cell_type": "code",
   "source": [
    "# Computing RFM Step-by Step\n",
    "# We'll then create a reference date using the last date in your dataset.\n",
    "df[\"InvoiceDate\"] = pd.to_datetime(df[\"InvoiceDate\"])\n",
    "latest_date = df[\"InvoiceDate\"].max()\n",
    "print(latest_date)\n",
    "# Group by each customer we'll calculate Recency, Frequency, and Monetary for each CustomerID.\n",
    "df[\"TotalPrice\"] = df[\"Quantity\"] * df[\"UnitPrice\"]\n",
    "rfm = df.groupby(\"CustomerID\").agg({\n",
    "    \"InvoiceDate\": lambda x: (latest_date - x.max()).days,   # Recency\n",
    "    \"InvoiceNo\": \"nunique\", # Frequency\n",
    "    \"TotalPrice\": \"sum\"  # Monetary\n",
    "})\n",
    "\n",
    "# You can rename the Columns for  Clarity\n",
    "rfm.rename(columns={\n",
    "    \"InvoiceDate\": \"Recency\",\n",
    "    \"InvoiceNo\": \"Frequency\",\n",
    "    \"TotalPrice\": \"Monetary\"\n",
    "}, inplace=True)\n",
    "\n",
    "# Check the new RFM table\n",
    "rfm.head()"
   ],
   "id": "940a92ad1d93a3b1",
   "outputs": [
    {
     "name": "stdout",
     "output_type": "stream",
     "text": [
      "2011-12-09 12:50:00\n"
     ]
    },
    {
     "data": {
      "text/plain": [
       "            Recency  Frequency  Monetary\n",
       "CustomerID                              \n",
       "12346.0         325          1  77183.60\n",
       "12347.0           1          7   4310.00\n",
       "12348.0          74          4   1797.24\n",
       "12349.0          18          1   1757.55\n",
       "12350.0         309          1    334.40"
      ],
      "text/html": [
       "<div>\n",
       "<style scoped>\n",
       "    .dataframe tbody tr th:only-of-type {\n",
       "        vertical-align: middle;\n",
       "    }\n",
       "\n",
       "    .dataframe tbody tr th {\n",
       "        vertical-align: top;\n",
       "    }\n",
       "\n",
       "    .dataframe thead th {\n",
       "        text-align: right;\n",
       "    }\n",
       "</style>\n",
       "<table border=\"1\" class=\"dataframe\">\n",
       "  <thead>\n",
       "    <tr style=\"text-align: right;\">\n",
       "      <th></th>\n",
       "      <th>Recency</th>\n",
       "      <th>Frequency</th>\n",
       "      <th>Monetary</th>\n",
       "    </tr>\n",
       "    <tr>\n",
       "      <th>CustomerID</th>\n",
       "      <th></th>\n",
       "      <th></th>\n",
       "      <th></th>\n",
       "    </tr>\n",
       "  </thead>\n",
       "  <tbody>\n",
       "    <tr>\n",
       "      <th>12346.0</th>\n",
       "      <td>325</td>\n",
       "      <td>1</td>\n",
       "      <td>77183.60</td>\n",
       "    </tr>\n",
       "    <tr>\n",
       "      <th>12347.0</th>\n",
       "      <td>1</td>\n",
       "      <td>7</td>\n",
       "      <td>4310.00</td>\n",
       "    </tr>\n",
       "    <tr>\n",
       "      <th>12348.0</th>\n",
       "      <td>74</td>\n",
       "      <td>4</td>\n",
       "      <td>1797.24</td>\n",
       "    </tr>\n",
       "    <tr>\n",
       "      <th>12349.0</th>\n",
       "      <td>18</td>\n",
       "      <td>1</td>\n",
       "      <td>1757.55</td>\n",
       "    </tr>\n",
       "    <tr>\n",
       "      <th>12350.0</th>\n",
       "      <td>309</td>\n",
       "      <td>1</td>\n",
       "      <td>334.40</td>\n",
       "    </tr>\n",
       "  </tbody>\n",
       "</table>\n",
       "</div>"
      ]
     },
     "execution_count": 161,
     "metadata": {},
     "output_type": "execute_result"
    }
   ],
   "execution_count": 161
  },
  {
   "metadata": {
    "ExecuteTime": {
     "end_time": "2025-10-17T13:43:41.246218Z",
     "start_time": "2025-10-17T13:43:41.061921Z"
    }
   },
   "cell_type": "code",
   "source": [
    "# Scaling the data\n",
    "from sklearn.preprocessing import StandardScaler\n",
    "rfm_features = rfm[[\"Recency\", \"Frequency\", \"Monetary\"]]\n",
    "scaler = StandardScaler()\n",
    "rfm_scaled = scaler.fit_transform(rfm_features)\n",
    "rfm_scaled_df = pd.DataFrame(rfm_scaled, columns=[\"Recency\",\"Frequency\", \"Monetary\"])\n",
    "rfm_scaled_df.reset_index(drop=True, inplace=True)\n",
    "print(rfm_scaled_df.head())"
   ],
   "id": "128ecbfd37125699",
   "outputs": [
    {
     "name": "stdout",
     "output_type": "stream",
     "text": [
      "    Recency  Frequency  Monetary\n",
      "0  2.334574  -0.425097  8.358668\n",
      "1 -0.905340   0.354417  0.250966\n",
      "2 -0.175360  -0.035340 -0.028596\n",
      "3 -0.735345  -0.425097 -0.033012\n",
      "4  2.174578  -0.425097 -0.191347\n"
     ]
    }
   ],
   "execution_count": 162
  },
  {
   "metadata": {
    "ExecuteTime": {
     "end_time": "2025-10-17T13:43:42.596356Z",
     "start_time": "2025-10-17T13:43:41.273766Z"
    }
   },
   "cell_type": "code",
   "source": [
    "# Applying Elbow Method\n",
    "from sklearn.cluster import KMeans\n",
    "import matplotlib.pyplot as plt\n",
    "\n",
    "# We'll try different k values\n",
    "wcss = []   # wcss measures how close the data points are to their cluster centers\n",
    "# It stands for Within-Cluster Sum of Squares\n",
    "\n",
    "\n",
    "# Test k from 1 to 10\n",
    "for k in range(1, 11):\n",
    "    kmeans = KMeans(n_clusters=k, random_state=42)\n",
    "    kmeans.fit(rfm_scaled_df)\n",
    "    wcss.append(kmeans.inertia_)  # inertia_ = WCSS value\n",
    "\n",
    "# Plot the elbow graph\n",
    "plt.plot(range(1, 11), wcss, marker='o')\n",
    "plt.title('Elbow Method for Optimal k')\n",
    "plt.xlabel('Number of clusters (k)')\n",
    "plt.ylabel('WCSS')\n",
    "plt.show()\n"
   ],
   "id": "dae72fa48adb85c1",
   "outputs": [
    {
     "data": {
      "text/plain": [
       "<Figure size 640x480 with 1 Axes>"
      ],
      "image/png": "[encoded data removed]"
     },
     "metadata": {},
     "output_type": "display_data",
     "jetTransient": {
      "display_id": null
     }
    }
   ],
   "execution_count": 163
  },
  {
   "metadata": {
    "ExecuteTime": {
     "end_time": "2025-10-17T13:43:43.245303Z",
     "start_time": "2025-10-17T13:43:42.714276Z"
    }
   },
   "cell_type": "code",
   "source": [
    "# training the kmeans model with the cluster number we've gotten\n",
    "from sklearn.cluster import KMeans\n",
    "kmeans = KMeans(n_clusters=4, random_state=42)\n",
    "kmeans.fit(rfm_scaled_df)\n",
    "\n",
    "# Get cluster labels for each customer\n",
    "rfm['Cluster'] = kmeans.labels_\n",
    "\n",
    "# Assign human-readable labels to clusters\n",
    "cluster_labels = {\n",
    "    0: 'Loyal Customers',\n",
    "    1: 'At Risk',\n",
    "    2: 'New Customers',\n",
    "    3: 'Big Spenders'\n",
    "}\n",
    "rfm['Cluster_Label'] = rfm['Cluster'].map(cluster_labels)\n",
    "\n",
    "\n",
    "# View a few rows\n",
    "print(rfm.head())"
   ],
   "id": "ba7da04c0885ad75",
   "outputs": [
    {
     "name": "stdout",
     "output_type": "stream",
     "text": [
      "            Recency  Frequency  Monetary  Cluster    Cluster_Label\n",
      "CustomerID                                                        \n",
      "12346.0         325          1  77183.60        3     Big Spenders\n",
      "12347.0           1          7   4310.00        0  Loyal Customers\n",
      "12348.0          74          4   1797.24        0  Loyal Customers\n",
      "12349.0          18          1   1757.55        0  Loyal Customers\n",
      "12350.0         309          1    334.40        1          At Risk\n"
     ]
    }
   ],
   "execution_count": 164
  },
  {
   "metadata": {
    "ExecuteTime": {
     "end_time": "2025-10-17T13:43:43.835744Z",
     "start_time": "2025-10-17T13:43:43.409297Z"
    }
   },
   "cell_type": "code",
   "source": [
    "rfm_cluster_summary = rfm.groupby('Cluster').agg({\n",
    "    'Recency': 'mean',\n",
    "    'Frequency': 'mean',\n",
    "    'Monetary': 'mean'\n",
    "}).round(2)\n",
    "\n",
    "print(rfm_cluster_summary)\n",
    "# Sort clusters by Recency (lower means more recent activity)\n",
    "rfm_cluster_summary = rfm_cluster_summary.sort_values('Recency')\n",
    "print(\"\\nSorted Cluster Summary (by Recency):\")\n",
    "print(rfm_cluster_summary)\n"
   ],
   "id": "6826e5afcd85c664",
   "outputs": [
    {
     "name": "stdout",
     "output_type": "stream",
     "text": [
      "         Recency  Frequency   Monetary\n",
      "Cluster                               \n",
      "0          42.70       3.68    1359.05\n",
      "1         247.08       1.55     480.62\n",
      "2           6.38      82.54  127338.31\n",
      "3          14.50      22.33   12709.09\n",
      "\n",
      "Sorted Cluster Summary (by Recency):\n",
      "         Recency  Frequency   Monetary\n",
      "Cluster                               \n",
      "2           6.38      82.54  127338.31\n",
      "3          14.50      22.33   12709.09\n",
      "0          42.70       3.68    1359.05\n",
      "1         247.08       1.55     480.62\n"
     ]
    }
   ],
   "execution_count": 165
  },
  {
   "metadata": {
    "ExecuteTime": {
     "end_time": "2025-10-17T13:43:44.911837Z",
     "start_time": "2025-10-17T13:43:44.000558Z"
    }
   },
   "cell_type": "code",
   "source": [
    "import seaborn as sns\n",
    "import matplotlib.pyplot as plt\n",
    "\n",
    "plt.figure(figsize=(6,4))\n",
    "sns.countplot(x='Cluster', data=rfm, palette='viridis')\n",
    "plt.title('Number of Customers in Each Cluster')\n",
    "plt.xlabel('Cluster')\n",
    "plt.ylabel('Count')\n",
    "plt.show()\n"
   ],
   "id": "290a99b42633ebbc",
   "outputs": [
    {
     "data": {
      "text/plain": [
       "<Figure size 600x400 with 1 Axes>"
      ],
      "image/png": "[encoded data removed]"
     },
     "metadata": {},
     "output_type": "display_data",
     "jetTransient": {
      "display_id": null
     }
    }
   ],
   "execution_count": 166
  },
  {
   "metadata": {
    "ExecuteTime": {
     "end_time": "2025-10-17T13:43:45.492538Z",
     "start_time": "2025-10-17T13:43:45.060893Z"
    }
   },
   "cell_type": "code",
   "source": [
    "# Visual Summary of RFM Scores by Cluster\n",
    "plt.figure(figsize=(10, 6))\n",
    "rfm_cluster_summary[['Recency', 'Frequency', 'Monetary']].plot(\n",
    "    kind='bar', figsize=(10, 6), color=['#4c72b0', '#55a868', '#c44e52']\n",
    ")\n",
    "plt.title(\"Average RFM Scores per Cluster\")\n",
    "plt.xlabel(\"Cluster\")\n",
    "plt.ylabel(\"Average Value\")\n",
    "plt.legend(title=\"RFM Feature\")\n",
    "plt.xticks(rotation=0)\n",
    "plt.grid(axis='y', linestyle='--', alpha=0.7)\n",
    "plt.show()\n"
   ],
   "id": "f562c0f396b1d1ad",
   "outputs": [
    {
     "data": {
      "text/plain": [
       "<Figure size 1000x600 with 0 Axes>"
      ]
     },
     "metadata": {},
     "output_type": "display_data",
     "jetTransient": {
      "display_id": null
     }
    },
    {
     "data": {
      "text/plain": [
       "<Figure size 1000x600 with 1 Axes>"
      ],
      "image/png": "[encoded data removed]"
     },
     "metadata": {},
     "output_type": "display_data",
     "jetTransient": {
      "display_id": null
     }
    }
   ],
   "execution_count": 167
  },
  {
   "metadata": {
    "ExecuteTime": {
     "end_time": "2025-10-17T13:44:21.961420Z",
     "start_time": "2025-10-17T13:44:14.678718Z"
    }
   },
   "cell_type": "code",
   "source": [
    "# Pairplot to show how clusters are separated\n",
    "sns.pairplot(rfm_scaled_df.assign(Cluster=rfm['Cluster']).sample(500, random_state=42),\n",
    "             hue='Cluster', palette='viridis', plot_kws={'alpha':0.6})\n"
   ],
   "id": "96aaad21fcda5e14",
   "outputs": [
    {
     "data": {
      "text/plain": [
       "<seaborn.axisgrid.PairGrid at 0x1c5a10f2b10>"
      ]
     },
     "execution_count": 172,
     "metadata": {},
     "output_type": "execute_result"
    },
    {
     "data": {
      "text/plain": [
       "<Figure size 805.236x750 with 12 Axes>"
      ],
      "image/png": "[encoded data removed]"
     },
     "metadata": {},
     "output_type": "display_data",
     "jetTransient": {
      "display_id": null
     }
    }
   ],
   "execution_count": 172
  },
  {
   "metadata": {
    "ExecuteTime": {
     "end_time": "2025-10-17T13:43:49.428163Z",
     "start_time": "2025-10-17T13:43:49.404436Z"
    }
   },
   "cell_type": "code",
   "source": [
    "# Interpret and print summary insights for each cluster\n",
    "print(\"\\n--- Cluster Interpretation ---\")\n",
    "for cluster_id, row in rfm_cluster_summary.iterrows():\n",
    "    recency = row['Recency']\n",
    "    frequency = row['Frequency']\n",
    "    monetary = row['Monetary']\n",
    "\n",
    "    if recency < 30 and frequency > 20 and monetary > 10000:\n",
    "        desc = \"Loyal & High-Value Customers — buy often, spend a lot, and purchased recently.\"\n",
    "    elif recency < 60 and frequency > 5:\n",
    "        desc = \"Regular Customers — purchase occasionally and are fairly active.\"\n",
    "    elif recency > 150 and frequency < 3:\n",
    "        desc = \"At-Risk Customers — haven’t bought in a while and don’t purchase much.\"\n",
    "    else:\n",
    "        desc = \"New or Low-Value Customers — recent or low-spending shoppers.\"\n",
    "\n",
    "    print(f\"Cluster {cluster_id}: {desc}\")\n"
   ],
   "id": "56c19694fffd8dcd",
   "outputs": [
    {
     "name": "stdout",
     "output_type": "stream",
     "text": [
      "\n",
      "--- Cluster Interpretation ---\n",
      "Cluster 2: Loyal & High-Value Customers — buy often, spend a lot, and purchased recently.\n",
      "Cluster 3: Loyal & High-Value Customers — buy often, spend a lot, and purchased recently.\n",
      "Cluster 0: New or Low-Value Customers — recent or low-spending shoppers.\n",
      "Cluster 1: At-Risk Customers — haven’t bought in a while and don’t purchase much.\n"
     ]
    }
   ],
   "execution_count": 169
  },
  {
   "metadata": {
    "ExecuteTime": {
     "end_time": "2025-10-17T13:43:49.615813Z",
     "start_time": "2025-10-17T13:43:49.558360Z"
    }
   },
   "cell_type": "code",
   "source": [
    "# Save the clustered RFM table for future analysis\n",
    "rfm.to_csv('rfm_clustered.csv', index=True)\n",
    "print(\"Clustered RFM data saved as 'rfm_clustered.csv'\")\n"
   ],
   "id": "86df3b88d848c097",
   "outputs": [
    {
     "name": "stdout",
     "output_type": "stream",
     "text": [
      "Clustered RFM data saved as 'rfm_clustered.csv'\n"
     ]
    }
   ],
   "execution_count": 170
  },
  {
   "metadata": {},
   "cell_type": "code",
   "outputs": [],
   "execution_count": null,
   "source": "",
   "id": "10ff3863913ae5a"
  }
 ],
 "metadata": {
  "kernelspec": {
   "display_name": "Python 3",
   "language": "python",
   "name": "python3"
  },
  "language_info": {
   "codemirror_mode": {
    "name": "ipython",
    "version": 2
   },
   "file_extension": ".py",
   "mimetype": "text/x-python",
   "name": "python",
   "nbconvert_exporter": "python",
   "pygments_lexer": "ipython2",
   "version": "2.7.6"
  }
 },
 "nbformat": 4,
 "nbformat_minor": 5
}
